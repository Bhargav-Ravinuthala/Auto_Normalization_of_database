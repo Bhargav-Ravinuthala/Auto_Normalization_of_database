{
 "cells": [
  {
   "cell_type": "code",
   "execution_count": 1,
   "metadata": {},
   "outputs": [],
   "source": [
    "import os\n",
    "import time\n",
    "\n",
    "import pandas as pd\n",
    "from featuretools.autonormalize import autonormalize as an"
   ]
  },
  {
   "cell_type": "code",
   "execution_count": 43,
   "metadata": {
    "scrolled": true
   },
   "outputs": [
    {
     "name": "stdout",
     "output_type": "stream",
     "text": [
      "Rows: 44\n",
      "Columns: 12\n"
     ]
    },
    {
     "data": {
      "text/html": [
       "<div>\n",
       "<style scoped>\n",
       "    .dataframe tbody tr th:only-of-type {\n",
       "        vertical-align: middle;\n",
       "    }\n",
       "\n",
       "    .dataframe tbody tr th {\n",
       "        vertical-align: top;\n",
       "    }\n",
       "\n",
       "    .dataframe thead th {\n",
       "        text-align: right;\n",
       "    }\n",
       "</style>\n",
       "<table border=\"1\" class=\"dataframe\">\n",
       "  <thead>\n",
       "    <tr style=\"text-align: right;\">\n",
       "      <th></th>\n",
       "      <th>Unnamed: 0</th>\n",
       "      <th>Number</th>\n",
       "      <th>Name_of_Covered_Entity</th>\n",
       "      <th>State</th>\n",
       "      <th>Business_Associate_Involved</th>\n",
       "      <th>Individuals_Affected</th>\n",
       "      <th>Date_of_Breach</th>\n",
       "      <th>Type_of_Breach</th>\n",
       "      <th>Location_of_Breached_Information</th>\n",
       "      <th>Date_Posted_or_Updated</th>\n",
       "      <th>Summary</th>\n",
       "      <th>breach_start</th>\n",
       "    </tr>\n",
       "  </thead>\n",
       "  <tbody>\n",
       "    <tr>\n",
       "      <th>12</th>\n",
       "      <td>13</td>\n",
       "      <td>12</td>\n",
       "      <td>Universal American</td>\n",
       "      <td>NY</td>\n",
       "      <td>Democracy Data &amp; Communications, LLC (</td>\n",
       "      <td>83000</td>\n",
       "      <td>11/12/2009</td>\n",
       "      <td>Other</td>\n",
       "      <td>Paper</td>\n",
       "      <td>2014-01-23</td>\n",
       "      <td>In its breach report and during the course of ...</td>\n",
       "      <td>2009-11-12</td>\n",
       "    </tr>\n",
       "    <tr>\n",
       "      <th>20</th>\n",
       "      <td>21</td>\n",
       "      <td>20</td>\n",
       "      <td>BlueCross BlueShield Association</td>\n",
       "      <td>DC</td>\n",
       "      <td>Service Benefits Plan Administrative Services ...</td>\n",
       "      <td>3400</td>\n",
       "      <td>10/26/2009</td>\n",
       "      <td>Theft</td>\n",
       "      <td>Paper</td>\n",
       "      <td>2014-06-30</td>\n",
       "      <td>The covered entity's (CE) business associate (...</td>\n",
       "      <td>2009-10-26</td>\n",
       "    </tr>\n",
       "    <tr>\n",
       "      <th>21</th>\n",
       "      <td>22</td>\n",
       "      <td>21</td>\n",
       "      <td>BlueCross BlueShield Association</td>\n",
       "      <td>DC</td>\n",
       "      <td>Merkle Direct Marketing</td>\n",
       "      <td>15000</td>\n",
       "      <td>10/7/2009</td>\n",
       "      <td>Theft</td>\n",
       "      <td>Paper</td>\n",
       "      <td>2014-04-24</td>\n",
       "      <td>The covered entity's (CE) business associate (...</td>\n",
       "      <td>2009-10-07</td>\n",
       "    </tr>\n",
       "  </tbody>\n",
       "</table>\n",
       "</div>"
      ],
      "text/plain": [
       "    Unnamed: 0  Number            Name_of_Covered_Entity State  \\\n",
       "12          13      12                Universal American    NY   \n",
       "20          21      20  BlueCross BlueShield Association    DC   \n",
       "21          22      21  BlueCross BlueShield Association    DC   \n",
       "\n",
       "                          Business_Associate_Involved  Individuals_Affected  \\\n",
       "12             Democracy Data & Communications, LLC (                 83000   \n",
       "20  Service Benefits Plan Administrative Services ...                  3400   \n",
       "21                            Merkle Direct Marketing                 15000   \n",
       "\n",
       "   Date_of_Breach Type_of_Breach Location_of_Breached_Information  \\\n",
       "12     11/12/2009          Other                            Paper   \n",
       "20     10/26/2009          Theft                            Paper   \n",
       "21      10/7/2009          Theft                            Paper   \n",
       "\n",
       "   Date_Posted_or_Updated                                            Summary  \\\n",
       "12             2014-01-23  In its breach report and during the course of ...   \n",
       "20             2014-06-30  The covered entity's (CE) business associate (...   \n",
       "21             2014-04-24  The covered entity's (CE) business associate (...   \n",
       "\n",
       "   breach_start  \n",
       "12   2009-11-12  \n",
       "20   2009-10-26  \n",
       "21   2009-10-07  "
      ]
     },
     "execution_count": 43,
     "metadata": {},
     "output_type": "execute_result"
    }
   ],
   "source": [
    "df = pd.read_csv(os.path.join(os.path.abspath(os.path.join('tt1.csv'))))\n",
    "#df=pd.read_csv(os.path.join(os.path.abspath(os.path.join('t.csv'))), encoding='utf-8-sig', sep='\\s*,\\s*', engine='python')\n",
    "#df.drop('Place',axis=1,inplace=True)\n",
    "df = df.drop(columns=df.columns[12:])\n",
    "#df = df.drop(range(15, 12))\n",
    "df = df.dropna()\n",
    "df = df.drop_duplicates()\n",
    "df.columns = df.columns.str.strip()\n",
    "print(\"Rows: \"+ str(df.shape[0]))\n",
    "print(\"Columns: \" + str(df.shape[1]))\n",
    "df.head(3)"
   ]
  },
  {
   "cell_type": "code",
   "execution_count": 44,
   "metadata": {
    "scrolled": true
   },
   "outputs": [
    {
     "data": {
      "text/plain": [
       "Unnamed: 0                           int64\n",
       "Number                               int64\n",
       "Name_of_Covered_Entity              object\n",
       "State                               object\n",
       "Business_Associate_Involved         object\n",
       "Individuals_Affected                 int64\n",
       "Date_of_Breach                      object\n",
       "Type_of_Breach                      object\n",
       "Location_of_Breached_Information    object\n",
       "Date_Posted_or_Updated              object\n",
       "Summary                             object\n",
       "breach_start                        object\n",
       "dtype: object"
      ]
     },
     "execution_count": 44,
     "metadata": {},
     "output_type": "execute_result"
    }
   ],
   "source": [
    "df.dtypes\n",
    "\n"
   ]
  },
  {
   "cell_type": "code",
   "execution_count": 45,
   "metadata": {
    "scrolled": true
   },
   "outputs": [],
   "source": [
    "df = df.astype({ \"Number\": 'int64',\"State\":'object'})"
   ]
  },
  {
   "cell_type": "markdown",
   "metadata": {},
   "source": []
  },
  {
   "cell_type": "code",
   "execution_count": 46,
   "metadata": {},
   "outputs": [
    {
     "name": "stderr",
     "output_type": "stream",
     "text": [
      "100%|██████████| 9/9 [00:03<00:00,  2.46it/s]\n"
     ]
    },
    {
     "data": {
      "text/plain": [
       "6.364660739898682"
      ]
     },
     "execution_count": 46,
     "metadata": {},
     "output_type": "execute_result"
    }
   ],
   "source": [
    "start = time.time()\n",
    "entityset = an.auto_entityset(df, accuracy=0.96, name='na')\n",
    "time.time() - start"
   ]
  },
  {
   "cell_type": "markdown",
   "metadata": {},
   "source": []
  },
  {
   "cell_type": "code",
   "execution_count": 47,
   "metadata": {
    "scrolled": false
   },
   "outputs": [
    {
     "name": "stderr",
     "output_type": "stream",
     "text": [
      "Warning: node Unnamed, port  0 unrecognized\r\n"
     ]
    },
    {
     "data": {
      "image/svg+xml": [
       "<?xml version=\"1.0\" encoding=\"UTF-8\" standalone=\"no\"?>\r\n",
       "<!DOCTYPE svg PUBLIC \"-//W3C//DTD SVG 1.1//EN\"\r\n",
       " \"http://www.w3.org/Graphics/SVG/1.1/DTD/svg11.dtd\">\r\n",
       "<!-- Generated by graphviz version 2.38.0 (20140413.2041)\r\n",
       " -->\r\n",
       "<!-- Title: na Pages: 1 -->\r\n",
       "<svg width=\"389pt\" height=\"552pt\"\r\n",
       " viewBox=\"0.00 0.00 389.00 552.00\" xmlns=\"http://www.w3.org/2000/svg\" xmlns:xlink=\"http://www.w3.org/1999/xlink\">\r\n",
       "<g id=\"graph0\" class=\"graph\" transform=\"scale(1 1) rotate(0) translate(4 548)\">\r\n",
       "<title>na</title>\r\n",
       "<polygon fill=\"white\" stroke=\"none\" points=\"-4,4 -4,-548 385,-548 385,4 -4,4\"/>\r\n",
       "<!-- Unnamed: 0 -->\r\n",
       "<g id=\"node1\" class=\"node\"><title>Unnamed: 0</title>\r\n",
       "<polygon fill=\"none\" stroke=\"black\" points=\"0,-452.5 0,-543.5 173,-543.5 173,-452.5 0,-452.5\"/>\r\n",
       "<text text-anchor=\"middle\" x=\"86.5\" y=\"-528.3\" font-family=\"Times New Roman,serif\" font-size=\"14.00\">Unnamed: 0 (44 rows)</text>\r\n",
       "<polyline fill=\"none\" stroke=\"black\" points=\"0,-520.5 173,-520.5 \"/>\r\n",
       "<text text-anchor=\"start\" x=\"8\" y=\"-505.3\" font-family=\"Times New Roman,serif\" font-size=\"14.00\">Unnamed: 0 : index</text>\r\n",
       "<text text-anchor=\"start\" x=\"8\" y=\"-490.3\" font-family=\"Times New Roman,serif\" font-size=\"14.00\">Number : numeric</text>\r\n",
       "<text text-anchor=\"start\" x=\"8\" y=\"-475.3\" font-family=\"Times New Roman,serif\" font-size=\"14.00\">Individuals_Affected : id</text>\r\n",
       "<text text-anchor=\"start\" x=\"8\" y=\"-460.3\" font-family=\"Times New Roman,serif\" font-size=\"14.00\">Summary : natural_language</text>\r\n",
       "</g>\r\n",
       "<!-- Individuals_Affected -->\r\n",
       "<g id=\"node2\" class=\"node\"><title>Individuals_Affected</title>\r\n",
       "<polygon fill=\"none\" stroke=\"black\" points=\"92,-324.5 92,-415.5 381,-415.5 381,-324.5 92,-324.5\"/>\r\n",
       "<text text-anchor=\"middle\" x=\"236.5\" y=\"-400.3\" font-family=\"Times New Roman,serif\" font-size=\"14.00\">Individuals_Affected (43 rows)</text>\r\n",
       "<polyline fill=\"none\" stroke=\"black\" points=\"92,-392.5 381,-392.5 \"/>\r\n",
       "<text text-anchor=\"start\" x=\"100\" y=\"-377.3\" font-family=\"Times New Roman,serif\" font-size=\"14.00\">Individuals_Affected : index</text>\r\n",
       "<text text-anchor=\"start\" x=\"100\" y=\"-362.3\" font-family=\"Times New Roman,serif\" font-size=\"14.00\">Name_of_Covered_Entity : categorical</text>\r\n",
       "<text text-anchor=\"start\" x=\"100\" y=\"-347.3\" font-family=\"Times New Roman,serif\" font-size=\"14.00\">Business_Associate_Involved : id</text>\r\n",
       "<text text-anchor=\"start\" x=\"100\" y=\"-332.3\" font-family=\"Times New Roman,serif\" font-size=\"14.00\">Location_of_Breached_Information : categorical</text>\r\n",
       "</g>\r\n",
       "<!-- Business_Associate_Involved -->\r\n",
       "<g id=\"node3\" class=\"node\"><title>Business_Associate_Involved</title>\r\n",
       "<polygon fill=\"none\" stroke=\"black\" points=\"115.5,-211.5 115.5,-287.5 357.5,-287.5 357.5,-211.5 115.5,-211.5\"/>\r\n",
       "<text text-anchor=\"middle\" x=\"236.5\" y=\"-272.3\" font-family=\"Times New Roman,serif\" font-size=\"14.00\">Business_Associate_Involved (36 rows)</text>\r\n",
       "<polyline fill=\"none\" stroke=\"black\" points=\"115.5,-264.5 357.5,-264.5 \"/>\r\n",
       "<text text-anchor=\"start\" x=\"123.5\" y=\"-249.3\" font-family=\"Times New Roman,serif\" font-size=\"14.00\">Business_Associate_Involved : index</text>\r\n",
       "<text text-anchor=\"start\" x=\"123.5\" y=\"-234.3\" font-family=\"Times New Roman,serif\" font-size=\"14.00\">Date_of_Breach : id</text>\r\n",
       "<text text-anchor=\"start\" x=\"123.5\" y=\"-219.3\" font-family=\"Times New Roman,serif\" font-size=\"14.00\">Date_Posted_or_Updated : datetime</text>\r\n",
       "</g>\r\n",
       "<!-- Individuals_Affected&#45;&gt;Business_Associate_Involved -->\r\n",
       "<g id=\"edge2\" class=\"edge\"><title>Individuals_Affected&#45;&gt;Business_Associate_Involved</title>\r\n",
       "<path fill=\"none\" stroke=\"black\" d=\"M236.5,-324.444C236.5,-324.444 236.5,-297.65 236.5,-297.65\"/>\r\n",
       "<polygon fill=\"black\" stroke=\"black\" points=\"240,-297.65 236.5,-287.65 233,-297.65 240,-297.65\"/>\r\n",
       "<text text-anchor=\"middle\" x=\"152\" y=\"-299.847\" font-family=\"Times New Roman,serif\" font-size=\"14.00\">Business_Associate_Involved</text>\r\n",
       "</g>\r\n",
       "<!-- Date_of_Breach -->\r\n",
       "<g id=\"node4\" class=\"node\"><title>Date_of_Breach</title>\r\n",
       "<polygon fill=\"none\" stroke=\"black\" points=\"153.5,-98.5 153.5,-174.5 319.5,-174.5 319.5,-98.5 153.5,-98.5\"/>\r\n",
       "<text text-anchor=\"middle\" x=\"236.5\" y=\"-159.3\" font-family=\"Times New Roman,serif\" font-size=\"14.00\">Date_of_Breach (30 rows)</text>\r\n",
       "<polyline fill=\"none\" stroke=\"black\" points=\"153.5,-151.5 319.5,-151.5 \"/>\r\n",
       "<text text-anchor=\"start\" x=\"161.5\" y=\"-136.3\" font-family=\"Times New Roman,serif\" font-size=\"14.00\">Date_of_Breach : index</text>\r\n",
       "<text text-anchor=\"start\" x=\"161.5\" y=\"-121.3\" font-family=\"Times New Roman,serif\" font-size=\"14.00\">State : id</text>\r\n",
       "<text text-anchor=\"start\" x=\"161.5\" y=\"-106.3\" font-family=\"Times New Roman,serif\" font-size=\"14.00\">breach_start : datetime</text>\r\n",
       "</g>\r\n",
       "<!-- Business_Associate_Involved&#45;&gt;Date_of_Breach -->\r\n",
       "<g id=\"edge3\" class=\"edge\"><title>Business_Associate_Involved&#45;&gt;Date_of_Breach</title>\r\n",
       "<path fill=\"none\" stroke=\"black\" d=\"M236.5,-211.243C236.5,-211.243 236.5,-184.717 236.5,-184.717\"/>\r\n",
       "<polygon fill=\"black\" stroke=\"black\" points=\"240,-184.717 236.5,-174.717 233,-184.717 240,-184.717\"/>\r\n",
       "<text text-anchor=\"middle\" x=\"190.5\" y=\"-186.78\" font-family=\"Times New Roman,serif\" font-size=\"14.00\">Date_of_Breach</text>\r\n",
       "</g>\r\n",
       "<!-- State -->\r\n",
       "<g id=\"node5\" class=\"node\"><title>State</title>\r\n",
       "<polygon fill=\"none\" stroke=\"black\" points=\"145.5,-0.5 145.5,-61.5 327.5,-61.5 327.5,-0.5 145.5,-0.5\"/>\r\n",
       "<text text-anchor=\"middle\" x=\"236.5\" y=\"-46.3\" font-family=\"Times New Roman,serif\" font-size=\"14.00\">State (15 rows)</text>\r\n",
       "<polyline fill=\"none\" stroke=\"black\" points=\"145.5,-38.5 327.5,-38.5 \"/>\r\n",
       "<text text-anchor=\"start\" x=\"153.5\" y=\"-23.3\" font-family=\"Times New Roman,serif\" font-size=\"14.00\">State : index</text>\r\n",
       "<text text-anchor=\"start\" x=\"153.5\" y=\"-8.3\" font-family=\"Times New Roman,serif\" font-size=\"14.00\">Type_of_Breach : categorical</text>\r\n",
       "</g>\r\n",
       "<!-- Date_of_Breach&#45;&gt;State -->\r\n",
       "<g id=\"edge4\" class=\"edge\"><title>Date_of_Breach&#45;&gt;State</title>\r\n",
       "<path fill=\"none\" stroke=\"black\" d=\"M236.5,-98.4121C236.5,-98.4121 236.5,-71.7631 236.5,-71.7631\"/>\r\n",
       "<polygon fill=\"black\" stroke=\"black\" points=\"240,-71.7631 236.5,-61.7631 233,-71.7631 240,-71.7631\"/>\r\n",
       "<text text-anchor=\"middle\" x=\"222.5\" y=\"-73.8876\" font-family=\"Times New Roman,serif\" font-size=\"14.00\">State</text>\r\n",
       "</g>\r\n",
       "<!-- Unnamed -->\r\n",
       "<g id=\"node6\" class=\"node\"><title>Unnamed</title>\r\n",
       "<ellipse fill=\"none\" stroke=\"black\" cx=\"236.5\" cy=\"-498\" rx=\"45.4919\" ry=\"18\"/>\r\n",
       "<text text-anchor=\"middle\" x=\"236.5\" y=\"-494.3\" font-family=\"Times New Roman,serif\" font-size=\"14.00\">Unnamed</text>\r\n",
       "</g>\r\n",
       "<!-- Unnamed&#45;&gt;Individuals_Affected -->\r\n",
       "<g id=\"edge1\" class=\"edge\"><title>Unnamed: 0&#45;&gt;Individuals_Affected</title>\r\n",
       "<path fill=\"none\" stroke=\"black\" d=\"M236.5,-479.932C236.5,-479.932 236.5,-425.557 236.5,-425.557\"/>\r\n",
       "<polygon fill=\"black\" stroke=\"black\" points=\"240,-425.557 236.5,-415.557 233,-425.558 240,-425.557\"/>\r\n",
       "<text text-anchor=\"middle\" x=\"177.5\" y=\"-441.545\" font-family=\"Times New Roman,serif\" font-size=\"14.00\">Individuals_Affected</text>\r\n",
       "</g>\r\n",
       "</g>\r\n",
       "</svg>\r\n"
      ],
      "text/plain": [
       "<graphviz.dot.Digraph at 0x1cc8096e4c8>"
      ]
     },
     "execution_count": 47,
     "metadata": {},
     "output_type": "execute_result"
    }
   ],
   "source": [
    "entityset.plot()"
   ]
  },
  {
   "cell_type": "markdown",
   "metadata": {},
   "source": [
    "Above you can see plotted the entities within entityset, and the relationships between them. Each entity contains the data from the original df with duplication removed. "
   ]
  },
  {
   "cell_type": "code",
   "execution_count": 48,
   "metadata": {},
   "outputs": [
    {
     "data": {
      "text/plain": [
       "Entityset: na\n",
       "  Entities:\n",
       "    Unnamed: 0 [Rows: 44, Columns: 4]\n",
       "    Individuals_Affected [Rows: 43, Columns: 4]\n",
       "    Business_Associate_Involved [Rows: 36, Columns: 3]\n",
       "    Date_of_Breach [Rows: 30, Columns: 3]\n",
       "    State [Rows: 15, Columns: 2]\n",
       "  Relationships:\n",
       "    Unnamed: 0.Individuals_Affected -> Individuals_Affected.Individuals_Affected\n",
       "    Individuals_Affected.Business_Associate_Involved -> Business_Associate_Involved.Business_Associate_Involved\n",
       "    Business_Associate_Involved.Date_of_Breach -> Date_of_Breach.Date_of_Breach\n",
       "    Date_of_Breach.State -> State.State"
      ]
     },
     "execution_count": 48,
     "metadata": {},
     "output_type": "execute_result"
    }
   ],
   "source": [
    "entityset"
   ]
  },
  {
   "cell_type": "code",
   "execution_count": null,
   "metadata": {},
   "outputs": [],
   "source": []
  }
 ],
 "metadata": {
  "kernelspec": {
   "display_name": "Python 3",
   "language": "python",
   "name": "python3"
  },
  "language_info": {
   "codemirror_mode": {
    "name": "ipython",
    "version": 3
   },
   "file_extension": ".py",
   "mimetype": "text/x-python",
   "name": "python",
   "nbconvert_exporter": "python",
   "pygments_lexer": "ipython3",
   "version": "3.7.9"
  }
 },
 "nbformat": 4,
 "nbformat_minor": 2
}
